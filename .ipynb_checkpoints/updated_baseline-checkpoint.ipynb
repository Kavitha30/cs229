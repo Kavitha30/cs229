{
 "cells": [
  {
   "cell_type": "code",
   "execution_count": 1,
   "metadata": {},
   "outputs": [],
   "source": [
    "import pandas as pd \n",
    "import numpy as np \n",
    "from sklearn.model_selection import train_test_split\n",
    "from sklearn.linear_model import LogisticRegression"
   ]
  },
  {
   "cell_type": "code",
   "execution_count": 2,
   "metadata": {},
   "outputs": [],
   "source": [
    "#data = pd.read_csv('complete_dataset.txt', sep='\\t')\n",
    "data = pd.read_csv('lc_test.txt', sep='\\t')"
   ]
  },
  {
   "cell_type": "code",
   "execution_count": 3,
   "metadata": {},
   "outputs": [],
   "source": [
    "data = data[data.emp_length != 'na']"
   ]
  },
  {
   "cell_type": "code",
   "execution_count": 4,
   "metadata": {},
   "outputs": [],
   "source": [
    "data['emp_length'].replace(' 1 year', 1, inplace = True)\n",
    "data['emp_length'].replace('1 year', 1, inplace = True)"
   ]
  },
  {
   "cell_type": "code",
   "execution_count": 14,
   "metadata": {},
   "outputs": [
    {
     "name": "stdout",
     "output_type": "stream",
     "text": [
      "['acc_now_delinq' 'acc_open_past_24mths' 'addr_state_AK' 'addr_state_AL'\n",
      " 'addr_state_AR' 'addr_state_AZ' 'addr_state_CA' 'addr_state_CO'\n",
      " 'addr_state_CT' 'addr_state_DC' 'addr_state_DE' 'addr_state_FL'\n",
      " 'addr_state_GA' 'addr_state_HI' 'addr_state_IA' 'addr_state_ID'\n",
      " 'addr_state_IL' 'addr_state_IN' 'addr_state_KS' 'addr_state_KY'\n",
      " 'addr_state_LA' 'addr_state_MA' 'addr_state_MD' 'addr_state_ME'\n",
      " 'addr_state_MI' 'addr_state_MN' 'addr_state_MO' 'addr_state_MS'\n",
      " 'addr_state_MT' 'addr_state_NC' 'addr_state_ND' 'addr_state_NE'\n",
      " 'addr_state_NH' 'addr_state_NJ' 'addr_state_NM' 'addr_state_NV'\n",
      " 'addr_state_NY' 'addr_state_OH' 'addr_state_OK' 'addr_state_OR'\n",
      " 'addr_state_PA' 'addr_state_RI' 'addr_state_SC' 'addr_state_SD'\n",
      " 'addr_state_TN' 'addr_state_TX' 'addr_state_UT' 'addr_state_VA'\n",
      " 'addr_state_VT' 'addr_state_WA' 'addr_state_WI' 'addr_state_WV'\n",
      " 'addr_state_WY' 'all_util' 'annual_inc' 'application_type_Individual'\n",
      " 'application_type_Joint App' 'avg_cur_bal' 'bc_open_to_buy' 'bc_util'\n",
      " 'chargeoff_within_12_mths' 'delinq_2yrs' 'dti' 'earliest_cr_line'\n",
      " 'emp_length' 'funded_amnt' 'funded_amnt_inv' 'home_ownership_ANY'\n",
      " 'home_ownership_MORTGAGE' 'home_ownership_NONE' 'home_ownership_OTHER'\n",
      " 'home_ownership_OWN' 'home_ownership_RENT' 'il_util' 'index'\n",
      " 'initial_list_status_f' 'initial_list_status_w' 'inq_fi' 'inq_last_12m'\n",
      " 'inq_last_6mths' 'installment' 'int_rate' 'issue_d' 'last_credit_pull_d'\n",
      " 'last_pymnt_amnt' 'loan_amnt' 'loan_status' 'max_bal_bc'\n",
      " 'mo_sin_old_il_acct' 'mo_sin_old_rev_tl_op' 'mo_sin_rcnt_rev_tl_op'\n",
      " 'mo_sin_rcnt_tl' 'mort_acc' 'mths_since_last_delinq'\n",
      " 'mths_since_last_delinq.1' 'mths_since_last_record' 'mths_since_rcnt_il'\n",
      " 'mths_since_recent_bc' 'mths_since_recent_inq' 'num_accts_ever_120_pd'\n",
      " 'open_acc' 'open_acc_6m' 'open_act_il' 'open_il_12m' 'open_il_24m'\n",
      " 'open_rv_12m' 'open_rv_24m' 'out_prncp' 'out_prncp_inv' 'pct_tl_nvr_dlq'\n",
      " 'percent_bc_gt_75' 'pub_rec_bankruptcies' 'purpose_car'\n",
      " 'purpose_credit_card' 'purpose_debt_consolidation' 'purpose_educational'\n",
      " 'purpose_home_improvement' 'purpose_house' 'purpose_major_purchase'\n",
      " 'purpose_medical' 'purpose_moving' 'purpose_other'\n",
      " 'purpose_renewable_energy' 'purpose_small_business' 'purpose_vacation'\n",
      " 'purpose_wedding' 'pymnt_plan_n' 'pymnt_plan_y' 'revol_bal' 'revol_util'\n",
      " 'sub_grade_A1' 'sub_grade_A2' 'sub_grade_A3' 'sub_grade_A4'\n",
      " 'sub_grade_A5' 'sub_grade_B1' 'sub_grade_B2' 'sub_grade_B3'\n",
      " 'sub_grade_B4' 'sub_grade_B5' 'sub_grade_C1' 'sub_grade_C2'\n",
      " 'sub_grade_C3' 'sub_grade_C4' 'sub_grade_C5' 'sub_grade_D1'\n",
      " 'sub_grade_D2' 'sub_grade_D3' 'sub_grade_D4' 'sub_grade_D5'\n",
      " 'sub_grade_E1' 'sub_grade_E2' 'sub_grade_E3' 'sub_grade_E4'\n",
      " 'sub_grade_E5' 'sub_grade_F1' 'sub_grade_F2' 'sub_grade_F3'\n",
      " 'sub_grade_F4' 'sub_grade_F5' 'sub_grade_G1' 'sub_grade_G2'\n",
      " 'sub_grade_G3' 'sub_grade_G4' 'sub_grade_G5' 'term' 'tot_coll_amt'\n",
      " 'tot_cur_bal' 'tot_hi_cred_lim' 'total_acc' 'total_bal_ex_mort'\n",
      " 'total_bal_il' 'total_bc_limit' 'total_cu_tl'\n",
      " 'total_il_high_credit_limit' 'total_pymnt' 'total_pymnt_inv'\n",
      " 'total_rec_int' 'total_rec_prncp' 'total_rev_hi_lim'\n",
      " 'verification_status_Not Verified' 'verification_status_Source Verified'\n",
      " 'verification_status_Verified' 'year']\n"
     ]
    }
   ],
   "source": [
    "X = data[data.columns.difference(['loan_status'])]\n",
    "X= data[data.columns.difference(['last_pymnt_amnt'])]\n",
    "X= data[data.columns.difference(['last_pymnt_d'])]\n",
    "y = data['loan_status'].values"
   ]
  },
  {
   "cell_type": "code",
   "execution_count": 15,
   "metadata": {},
   "outputs": [],
   "source": [
    "X_train, X_test, y_train, y_test = train_test_split(X, y, test_size=0.2, random_state=1)"
   ]
  },
  {
   "cell_type": "code",
   "execution_count": 16,
   "metadata": {},
   "outputs": [],
   "source": [
    "X_train, X_val, y_train, y_val = train_test_split(X_train, y_train, test_size=0.2, random_state=1)"
   ]
  },
  {
   "cell_type": "code",
   "execution_count": 17,
   "metadata": {},
   "outputs": [
    {
     "name": "stderr",
     "output_type": "stream",
     "text": [
      "/Users/ahn 1/Library/Python/3.6/lib/python/site-packages/sklearn/linear_model/sag.py:337: ConvergenceWarning: The max_iter was reached which means the coef_ did not converge\n",
      "  \"the coef_ did not converge\", ConvergenceWarning)\n"
     ]
    }
   ],
   "source": [
    "#logistic regression\n",
    "lr = LogisticRegression(penalty = 'none', solver ='saga')\n",
    "model = lr.fit(X_train, y_train)"
   ]
  },
  {
   "cell_type": "code",
   "execution_count": 19,
   "metadata": {},
   "outputs": [],
   "source": [
    "pred = model.predict(X_test)"
   ]
  },
  {
   "cell_type": "code",
   "execution_count": 20,
   "metadata": {},
   "outputs": [
    {
     "name": "stdout",
     "output_type": "stream",
     "text": [
      "0.987003341997772\n",
      "0.987003341997772\n",
      "nan\n"
     ]
    },
    {
     "name": "stderr",
     "output_type": "stream",
     "text": [
      "/Users/ahn 1/Library/Python/3.6/lib/python/site-packages/ipykernel_launcher.py:9: RuntimeWarning: invalid value encountered in true_divide\n",
      "  if __name__ == '__main__':\n"
     ]
    }
   ],
   "source": [
    "# Accuracy\n",
    "testlen = X_test.shape[0]\n",
    "print(sum([pred[i] == y_test[i] for i in range(testlen)]) / float(testlen))\n",
    "\n",
    "# Specificity: For those who didn't default, how many did it predict correctly?\n",
    "print(sum([pred[i] == y_test[i] and pred[i] == 0 for i in range(testlen)]) / float(sum([pred[i] == 0 for i in range(testlen)])))\n",
    "\n",
    "# Sensitivity: For those who did default, how many did it predict correctly?\n",
    "print(sum([pred[i] == y_test[i] and pred[i] == 1 for i in range(testlen)]) / float(sum([pred[i] == 1 for i in range(testlen)])))"
   ]
  },
  {
   "cell_type": "code",
   "execution_count": 21,
   "metadata": {},
   "outputs": [
    {
     "name": "stdout",
     "output_type": "stream",
     "text": [
      "0.987003341997772\n",
      "[[90372     0]\n",
      " [ 1190     0]]\n",
      "0.5\n"
     ]
    }
   ],
   "source": [
    "# generate metrics\n",
    "from sklearn import metrics\n",
    "print(metrics.accuracy_score(y_test, pred))\n",
    "print(metrics.confusion_matrix(y_test, pred))\n",
    "print(metrics.roc_auc_score(y_test, pred))"
   ]
  },
  {
   "cell_type": "code",
   "execution_count": 23,
   "metadata": {},
   "outputs": [
    {
     "data": {
      "text/plain": [
       "Text(0, 0.5, 'True Positive Rate')"
      ]
     },
     "execution_count": 23,
     "metadata": {},
     "output_type": "execute_result"
    },
    {
     "data": {
      "image/png": "[encoded data removed]",
      "text/plain": [
       "<Figure size 432x288 with 1 Axes>"
      ]
     },
     "metadata": {
      "needs_background": "light"
     },
     "output_type": "display_data"
    }
   ],
   "source": [
    "# plot ROC curve\n",
    "import matplotlib.pyplot as plt\n",
    "fpr, tpr, thresholds = metrics.roc_curve(y_test, pred)\n",
    "plt.figure()\n",
    "plt.plot(fpr, tpr)\n",
    "plt.xlabel('False Positive Rate')\n",
    "plt.ylabel('True Positive Rate')\n",
    "plt.show()"
   ]
  },
  {
   "cell_type": "code",
   "execution_count": 26,
   "metadata": {},
   "outputs": [
    {
     "name": "stdout",
     "output_type": "stream",
     "text": [
      "1.0\n",
      "0.0\n"
     ]
    }
   ],
   "source": [
    "#L1 logistic regression\n",
    "from sklearn.linear_model import LogisticRegressionCV\n",
    "clf = LogisticRegressionCV(cv=5, random_state=0, penalty ='l1', solver = 'liblinear').fit(X_train,y_train)\n",
    "print(clf.score(X, y))\n",
    "y_hat = clf.predict(X_train)\n",
    "MSE = np.sum((y_hat - y_train)**2)/len(X_train)\n",
    "print(MSE)"
   ]
  },
  {
   "cell_type": "code",
   "execution_count": null,
   "metadata": {},
   "outputs": [],
   "source": [
    "#L2 logistic regression\n",
    "clf = LogisticRegressionCV(cv=5, random_state=0, penalty ='l2', solver = 'liblinear').fit(X_train,y_train)\n",
    "print(clf.score(X, y))\n",
    "y_hat = clf.predict(X_train)\n",
    "MSE = np.sum((y_hat - y_train)**2)/len(X_train)\n",
    "print(MSE)"
   ]
  },
  {
   "cell_type": "code",
   "execution_count": null,
   "metadata": {},
   "outputs": [],
   "source": [
    "#gradient boosted trees\n",
    "from sklearn.ensemble import GradientBoostingRegressor\n",
    "# 10-fold CV, with shuffle\n",
    "kf_10 = model_selection.KFold( n_splits=10, shuffle=True, random_state=1)\n",
    "\n",
    "gbr = sklearn.ensemble.GradientBoostingRegressor(random_state=0)\n",
    "result = []\n",
    "best_result = 10\n",
    "best_params = None\n",
    "best_r_score = None\n",
    "for l in range(80, 100):\n",
    "    for k in range(1, 5):\n",
    "        for l_rate in np.arange(0.1, 1, 0.05):\n",
    "            regressor = GradientBoostingRegressor(random_state=0, learning_rate = l_rate, n_estimators = l , max_depth = k)\n",
    "            score = - model_selection.cross_val_score(regressor, X_train, y_train, cv=kf_10, scoring='neg_mean_squared_error').mean()\n",
    "            r_score = - model_selection.cross_val_score(regressor, X_train, y_train, cv=kf_10).mean()\n",
    "            if score < best_result:\n",
    "                best_result = score\n",
    "                best_params = (l, k)\n",
    "                best_r_score = r_score\n",
    "            result.append((score, (l, k, l_rate)))\n",
    "print(best_result)\n",
    "print(best_params)\n",
    "print(best_r_score)"
   ]
  }
 ],
 "metadata": {
  "kernelspec": {
   "display_name": "Python 2",
   "language": "python",
   "name": "python2"
  },
  "language_info": {
   "codemirror_mode": {
    "name": "ipython",
    "version": 2
   },
   "file_extension": ".py",
   "mimetype": "text/x-python",
   "name": "python",
   "nbconvert_exporter": "python",
   "pygments_lexer": "ipython2",
   "version": "2.7.14"
  }
 },
 "nbformat": 4,
 "nbformat_minor": 2
}
