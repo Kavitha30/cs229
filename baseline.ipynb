{
 "cells": [
  {
   "cell_type": "code",
   "execution_count": 2,
   "metadata": {},
   "outputs": [],
   "source": [
    "import statsmodels.formula.api as smf\n",
    "import statsmodels.api as sm\n",
    "import pandas as pd\n",
    "import numpy as np\n",
    "from sklearn.model_selection import train_test_split"
   ]
  },
  {
   "cell_type": "code",
   "execution_count": null,
   "metadata": {},
   "outputs": [],
   "source": [
    "data = pd.read_csv('data/complete_dataset.txt', sep='\\t')"
   ]
  },
  {
   "cell_type": "code",
   "execution_count": null,
   "metadata": {},
   "outputs": [],
   "source": [
    "data.head()"
   ]
  },
  {
   "cell_type": "code",
   "execution_count": null,
   "metadata": {},
   "outputs": [],
   "source": [
    "pd.set_option('display.max_columns', None)"
   ]
  },
  {
   "cell_type": "code",
   "execution_count": null,
   "metadata": {},
   "outputs": [],
   "source": [
    "train, validate, test = np.split(data.sample(frac=1), [int(.6*len(data)), int(.8*len(data))])"
   ]
  },
  {
   "cell_type": "code",
   "execution_count": null,
   "metadata": {
    "scrolled": true
   },
   "outputs": [],
   "source": [
    "mylogit = smf.glm(formula='loan_status ~ loan_amnt + funded_amnt + funded_amnt_inv + term + int_rate + installment + annual_inc + emp_length + loan_status + issue_d+ earliest_cr_line + inq_last_6mths + mths_since_last_delinq+ mths_since_last_record + open_acc + revol_bal + revol_util + total_acc+ out_prncp + out_prncp_inv + total_pymnt + total_pymnt_inv+ total_rec_prncp + total_rec_int + last_pymnt_d + last_pymnt_amnt+ last_credit_pull_d + tot_coll_amt + tot_cur_bal + open_acc_6m+ open_act_il + open_il_12m + open_il_24m + mths_since_rcnt_il+ total_bal_il + il_util + open_rv_12m + open_rv_24m + max_bal_bc+ all_util + total_rev_hi_lim + inq_fi + total_cu_tl + inq_last_12m+ acc_now_delinq+ acc_open_past_24mths + mo_sin_old_il_acct + mo_sin_old_rev_tl_op+ mo_sin_rcnt_rev_tl_op + mo_sin_rcnt_tl+ mort_acc + mths_since_recent_bc + mths_since_recent_inq + avg_cur_bal+ bc_util + bc_open_to_buy + chargeoff_within_12_mths + delinq_2yrs + dti+ num_accts_ever_120_pd + percent_bc_gt_75+ pct_tl_nvr_dlq + pub_rec_bankruptcies + tot_hi_cred_lim+ total_bal_ex_mort + total_bc_limit + total_il_high_credit_limit+ verification_status_Verified + pymnt_plan_n + pymnt_plan_y+ initial_list_status_w + initial_list_status_f + application_type_Individual+ home_ownership_RENT + home_ownership_MORTGAGE + home_ownership_OWN+ home_ownership_ANY + home_ownership_NONE + home_ownership_OTHER  + addr_state_NY + addr_state_LA + addr_state_MI + addr_state_WA+ addr_state_MD + addr_state_IN + addr_state_IL + addr_state_FL +addr_state_CT + addr_state_GA + addr_state_UT + addr_state_NC + addr_state_KY + addr_state_OH + addr_state_AR+ addr_state_OK+ addr_state_CA + addr_state_WV + addr_state_NJ + addr_state_SC + addr_state_TX + addr_state_PA + addr_state_KS + addr_state_AL+ addr_state_VA + addr_state_MO + addr_state_AZ +addr_state_NM+ addr_state_CO + addr_state_RI + addr_state_WI + addr_state_TN+ addr_state_NV + addr_state_MA + addr_state_NE + addr_state_MN+ addr_state_NH + addr_state_OR + addr_state_VT + addr_state_DC+addr_state_MS + addr_state_ID + addr_state_DE + addr_state_ND+addr_state_HI+ addr_state_ME + addr_state_AK + addr_state_WY+addr_state_MT + addr_state_SD + addr_state_IA+purpose_debt_consolidation + purpose_credit_card + purpose_house+purpose_car + purpose_other + purpose_vacation+purpose_home_improvement + purpose_small_business+purpose_major_purchase + purpose_medical + purpose_renewable_energy+purpose_moving + purpose_wedding + purpose_educational + sub_grade_C1+sub_grade_D2+sub_grade_D1 + sub_grade_C4 + sub_grade_C3+sub_grade_C2+sub_grade_D5 + sub_grade_B3 + sub_grade_A4+sub_grade_B5+sub_grade_C5 + sub_grade_D4 + sub_grade_E1+sub_grade_E4+ sub_grade_B4 + sub_grade_D3 + sub_grade_A1+sub_grade_E5 + sub_grade_B2 + sub_grade_B1 + sub_grade_A5+sub_grade_F5 + sub_grade_A3 + sub_grade_E3 + sub_grade_A2+sub_grade_E2 + sub_grade_F4 + sub_grade_G1 + sub_grade_G2 + sub_grade_F1 + sub_grade_F2 + sub_grade_F3 + sub_grade_G4 + sub_grade_G3 + sub_grade_G5', data=train, family=sm.families.Binomial()).fit()"
   ]
  },
  {
   "cell_type": "code",
   "execution_count": null,
   "metadata": {},
   "outputs": [],
   "source": [
    "print(mylogit.summary())"
   ]
  },
  {
   "cell_type": "code",
   "execution_count": null,
   "metadata": {},
   "outputs": [],
   "source": [
    "# Create predictions using the balance model on the test set\n",
    "test['pred'] = mylogit.predict(test)\n",
    "test['pred_class'] = np.where(test['pred'] >= 0.5, 1, 0)\n",
    "\n",
    "# Accuracy\n",
    "sum(test.pred_class == test.loan_status) / float(len(test))\n",
    "\n",
    "# Specificity: For those who didn't default, how many did it predict correctly?\n",
    "test_nd = test[test.loan_status == 0]\n",
    "sum(test_nd.pred_class == 0) / float(len(test_nd))\n",
    "\n",
    "# Sensitivity: For those who did default, how many did it predict correctly? \n",
    "test_d = test[test.loan_status == 1]\n",
    "sum(test_d.pred_class == 1) / float(len(test_d))\n",
    "\n",
    "\n",
    "# generate metrics\n",
    "from sklearn import metrics\n",
    "print metrics.accuracy_score(test.loan_status, test.pred_class)\n",
    "print metrics.confusion_matrix(test.loan_status, test.pred_class)\n",
    "print metrics.roc_auc_score(test.loan_status, test.pred)\n",
    "\n",
    "# plot ROC curve\n",
    "fpr, tpr, thresholds = metrics.roc_curve(test.loan_status, test.pred)\n",
    "plt.figure()\n",
    "plt.plot(fpr, tpr)\n",
    "plt.xlabel('False Positive Rate')\n",
    "plt.ylabel('True Positive Rate')\n"
   ]
  },
  {
   "cell_type": "code",
   "execution_count": null,
   "metadata": {},
   "outputs": [],
   "source": []
  }
 ],
 "metadata": {
  "kernelspec": {
   "display_name": "Python 2",
   "language": "python",
   "name": "python2"
  },
  "language_info": {
   "codemirror_mode": {
    "name": "ipython",
    "version": 2
   },
   "file_extension": ".py",
   "mimetype": "text/x-python",
   "name": "python",
   "nbconvert_exporter": "python",
   "pygments_lexer": "ipython2",
   "version": "2.7.13"
  }
 },
 "nbformat": 4,
 "nbformat_minor": 2
}
